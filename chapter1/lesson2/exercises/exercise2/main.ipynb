{
 "cells": [
  {
   "cell_type": "code",
   "execution_count": 1,
   "id": "f3d39a02-e08c-4e28-bdb1-f7b1f2831d4a",
   "metadata": {},
   "outputs": [],
   "source": [
    "from IPython.display import Markdown, display\n",
    "from dotenv import load_dotenv\n",
    "from openai import OpenAI"
   ]
  },
  {
   "cell_type": "code",
   "execution_count": 2,
   "id": "81322633-20f7-4579-8a64-4afdf2e3acf3",
   "metadata": {},
   "outputs": [
    {
     "data": {
      "text/plain": [
       "True"
      ]
     },
     "execution_count": 2,
     "metadata": {},
     "output_type": "execute_result"
    }
   ],
   "source": [
    "load_dotenv()"
   ]
  },
  {
   "cell_type": "code",
   "execution_count": 3,
   "id": "e76a974e-38bf-4e56-997e-8adc2569f5d1",
   "metadata": {},
   "outputs": [],
   "source": [
    "# uses OPENAI_API_KEY from environment variable\n",
    "client = OpenAI(\n",
    "    base_url=\"https://openai.vocareum.com/v1\"\n",
    ")"
   ]
  },
  {
   "cell_type": "code",
   "execution_count": 4,
   "id": "4ae2ef1d-9eda-4e06-9b9c-5afe71817b10",
   "metadata": {},
   "outputs": [],
   "source": [
    "from enum import Enum\n",
    "\n",
    "\n",
    "class OpenAIModels(str, Enum):\n",
    "    GPT_4O_MINI = \"gpt-4o-mini\"\n",
    "    GPT_41_MINI = \"gpt-4.1-mini\"\n",
    "    GPT_41_NANO = \"gpt-4.1-nano\"\n",
    "\n",
    "\n",
    "MODEL = OpenAIModels.GPT_4O_MINI\n",
    "\n",
    "\n",
    "def get_completion(system_prompt, user_prompt, model=MODEL):\n",
    "    \"\"\"\n",
    "    Function to get a completion from the OpenAI API.\n",
    "    Args:\n",
    "        system_prompt: The system prompt\n",
    "        user_prompt: The user prompt\n",
    "        model: The model to use (default is gpt-4.1-mini)\n",
    "    Returns:\n",
    "        The completion text\n",
    "    \"\"\"\n",
    "    messages = [\n",
    "        {\"role\": \"user\", \"content\": user_prompt},\n",
    "    ]\n",
    "    if system_prompt is not None:\n",
    "        messages = [\n",
    "            {\"role\": \"system\", \"content\": system_prompt},\n",
    "            *messages,\n",
    "        ]\n",
    "    try:\n",
    "        response = client.chat.completions.create(\n",
    "            model=model,\n",
    "            messages=messages,\n",
    "            temperature=0.7,\n",
    "        )\n",
    "        return response.choices[0].message.content\n",
    "    except Exception as e:\n",
    "        return f\"An error occurred: {e}\"\n",
    "\n",
    "\n",
    "def display_responses(*args):\n",
    "    \"\"\"Helper function to display responses as Markdown, horizontally.\"\"\"\n",
    "    markdown_string = \"<table><tr>\"\n",
    "    # Headers\n",
    "    for arg in args:\n",
    "        markdown_string += f\"<th>System Prompt:<br />{arg['system_prompt']}<br /><br />\"\n",
    "        markdown_string += f\"User Prompt:<br />{arg['user_prompt']}</th>\"\n",
    "    markdown_string += \"</tr>\"\n",
    "    # Rows\n",
    "    markdown_string += \"<tr>\"\n",
    "    for arg in args:\n",
    "        markdown_string += f\"<td>Response:<br />{arg['response']}</td>\"\n",
    "    markdown_string += \"</tr></table>\"\n",
    "    display(Markdown(markdown_string))"
   ]
  },
  {
   "cell_type": "markdown",
   "id": "2302cb4c-7b2d-4686-8008-ceb6b0b2b808",
   "metadata": {},
   "source": [
    "## 3. Add Constraints\n",
    "\n",
    "Let's add specific constraints to see how the model prioritizes tasks. Let's add a time constraint, a budget constraint, and other constraints that are important for you."
   ]
  },
  {
   "cell_type": "code",
   "execution_count": 9,
   "id": "a38e577d-932a-4d4b-b915-c289b231b17d",
   "metadata": {},
   "outputs": [
    {
     "name": "stdout",
     "output_type": "stream",
     "text": [
      "Sending prompt with constraints...\n",
      "Response received!\n",
      "\n"
     ]
    },
    {
     "data": {
      "text/markdown": [
       "<table><tr><th>System Prompt:<br /> You are an expert professional organizer and productivity coach.. The plan must be achievable in one hour and require no purchases, using only existing household items.<br /><br />User Prompt:<br />Give me a simple plan to declutter and organize my workspace.</th></tr><tr><td>Response:<br />Certainly! Here’s a simple, achievable 1-hour plan to declutter and organize your workspace using only items you already have at home:\n",
       "\n",
       "### 1-Hour Workspace Declutter and Organization Plan\n",
       "\n",
       "**Materials Needed:**  \n",
       "- Trash bag or bin for garbage  \n",
       "- Box or basket for items to relocate  \n",
       "- Cleaning cloth or paper towel  \n",
       "\n",
       "---\n",
       "\n",
       "### Minute 0–10: Clear the Surface  \n",
       "- Remove everything from your desk and workspace surfaces.  \n",
       "- Quickly wipe down the desk with a damp cloth or paper towel to clean dust and stains.  \n",
       "\n",
       "### Minute 10–20: Sort Items  \n",
       "- Sort items into 3 categories:  \n",
       "  1. **Keep** (things you use daily or frequently)  \n",
       "  2. **Relocate** (items that belong elsewhere)  \n",
       "  3. **Trash** (broken, expired, or unnecessary items)  \n",
       "- Place trash in the trash bag/bin.  \n",
       "- Place relocate items in a box or basket to move later.  \n",
       "\n",
       "### Minute 20–35: Organize Keep Items  \n",
       "- Group similar items together (e.g., pens, notebooks, chargers).  \n",
       "- Use small containers or trays you already have (like a small bowl, mug, or box) to keep grouped items tidy.  \n",
       "- Arrange your most-used items within easy reach.  \n",
       "\n",
       "### Minute 35–50: Optimize Workspace Layout  \n",
       "- Position your computer, monitor, keyboard, and mouse ergonomically.  \n",
       "- Place frequently used items (notebooks, pens, phone charger) nearby.  \n",
       "- Store less frequently used items toward the back or in drawers.  \n",
       "\n",
       "### Minute 50–60: Final Touches  \n",
       "- Take the box/basket of relocate items to their proper places.  \n",
       "- Empty the trash bag/bin.  \n",
       "- Do a quick sweep/floor clean near your workspace if needed.  \n",
       "- Enjoy your clean, organized, and efficient workspace!  \n",
       "\n",
       "---\n",
       "\n",
       "Would you like tips on maintaining this organized setup over time?</td></tr></table>"
      ],
      "text/plain": [
       "<IPython.core.display.Markdown object>"
      ]
     },
     "metadata": {},
     "output_type": "display_data"
    }
   ],
   "source": [
    "user_prompt = \"Give me a simple plan to declutter and organize my workspace.\"\n",
    "role_system_prompt = \"You are an expert professional organizer and productivity coach.\"\n",
    "constraints_system_prompt = f\"\"\" {role_system_prompt}. The plan must be achievable in one hour and require no purchases, using only existing household items.\"\"\"\n",
    "\n",
    "print(\"Sending prompt with constraints...\")\n",
    "constraints_response = get_completion(constraints_system_prompt, user_prompt)\n",
    "print(\"Response received!\\n\")\n",
    "\n",
    "# Show last two prompts and responses\n",
    "display_responses(\n",
    "    {\n",
    "        \"system_prompt\": constraints_system_prompt,\n",
    "        \"user_prompt\": user_prompt,\n",
    "        \"response\": constraints_response,\n",
    "    },\n",
    ")"
   ]
  }
 ],
 "metadata": {
  "kernelspec": {
   "display_name": "Python (myenv)",
   "language": "python",
   "name": "myenv"
  },
  "language_info": {
   "codemirror_mode": {
    "name": "ipython",
    "version": 3
   },
   "file_extension": ".py",
   "mimetype": "text/x-python",
   "name": "python",
   "nbconvert_exporter": "python",
   "pygments_lexer": "ipython3",
   "version": "3.13.6"
  }
 },
 "nbformat": 4,
 "nbformat_minor": 5
}
