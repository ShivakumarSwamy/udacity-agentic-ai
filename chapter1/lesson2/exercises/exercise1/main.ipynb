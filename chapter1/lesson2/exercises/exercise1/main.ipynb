{
 "cells": [
  {
   "cell_type": "code",
   "execution_count": 2,
   "id": "f3d39a02-e08c-4e28-bdb1-f7b1f2831d4a",
   "metadata": {},
   "outputs": [],
   "source": [
    "from IPython.display import Markdown, display\n",
    "from dotenv import load_dotenv\n",
    "# Import necessary libraries\n",
    "# No changes needed in this cell\n",
    "from openai import OpenAI"
   ]
  },
  {
   "cell_type": "code",
   "execution_count": 3,
   "id": "81322633-20f7-4579-8a64-4afdf2e3acf3",
   "metadata": {},
   "outputs": [
    {
     "data": {
      "text/plain": [
       "True"
      ]
     },
     "execution_count": 3,
     "metadata": {},
     "output_type": "execute_result"
    }
   ],
   "source": [
    "load_dotenv()"
   ]
  },
  {
   "cell_type": "code",
   "execution_count": 4,
   "id": "e76a974e-38bf-4e56-997e-8adc2569f5d1",
   "metadata": {},
   "outputs": [],
   "source": [
    "# uses OPENAI_API_KEY from environment variable\n",
    "client = OpenAI(\n",
    "    base_url=\"https://openai.vocareum.com/v1\"\n",
    ")"
   ]
  },
  {
   "cell_type": "code",
   "execution_count": 7,
   "id": "4ae2ef1d-9eda-4e06-9b9c-5afe71817b10",
   "metadata": {},
   "outputs": [],
   "source": [
    "from enum import Enum\n",
    "\n",
    "\n",
    "class OpenAIModels(str, Enum):\n",
    "    GPT_4O_MINI = \"gpt-4o-mini\"\n",
    "    GPT_41_MINI = \"gpt-4.1-mini\"\n",
    "    GPT_41_NANO = \"gpt-4.1-nano\"\n",
    "\n",
    "\n",
    "MODEL = OpenAIModels.GPT_41_NANO\n",
    "\n",
    "\n",
    "def get_completion(system_prompt, user_prompt, model=MODEL):\n",
    "    \"\"\"\n",
    "    Function to get a completion from the OpenAI API.\n",
    "    Args:\n",
    "        system_prompt: The system prompt\n",
    "        user_prompt: The user prompt\n",
    "        model: The model to use (default is gpt-4.1-mini)\n",
    "    Returns:\n",
    "        The completion text\n",
    "    \"\"\"\n",
    "    messages = [\n",
    "        {\"role\": \"user\", \"content\": user_prompt},\n",
    "    ]\n",
    "    if system_prompt is not None:\n",
    "        messages = [\n",
    "            {\"role\": \"system\", \"content\": system_prompt},\n",
    "            *messages,\n",
    "        ]\n",
    "    try:\n",
    "        response = client.chat.completions.create(\n",
    "            model=model,\n",
    "            messages=messages,\n",
    "            temperature=0.7,\n",
    "        )\n",
    "        return response.choices[0].message.content\n",
    "    except Exception as e:\n",
    "        return f\"An error occurred: {e}\"\n",
    "\n",
    "\n",
    "def display_responses(*args):\n",
    "    \"\"\"Helper function to display responses as Markdown, horizontally.\"\"\"\n",
    "    markdown_string = \"<table><tr>\"\n",
    "    # Headers\n",
    "    for arg in args:\n",
    "        markdown_string += f\"<th>System Prompt:<br />{arg['system_prompt']}<br /><br />\"\n",
    "        markdown_string += f\"User Prompt:<br />{arg['user_prompt']}</th>\"\n",
    "    markdown_string += \"</tr>\"\n",
    "    # Rows\n",
    "    markdown_string += \"<tr>\"\n",
    "    for arg in args:\n",
    "        markdown_string += f\"<td>Response:<br />{arg['response']}</td>\"\n",
    "    markdown_string += \"</tr></table>\"\n",
    "    display(Markdown(markdown_string))"
   ]
  },
  {
   "cell_type": "markdown",
   "id": "ce3050c3-5423-49cf-b767-632f0dac0d74",
   "metadata": {},
   "source": [
    "## 1. Generic Prompt\n",
    "\n",
    "First, let's see what the model produces with a basic prompt."
   ]
  },
  {
   "cell_type": "code",
   "execution_count": 5,
   "id": "495050ef-373c-42bc-8050-d0230a277b24",
   "metadata": {},
   "outputs": [
    {
     "name": "stdout",
     "output_type": "stream",
     "text": [
      "Sending prompt to OpenAIModels.GPT_41_NANO model...\n",
      "Response received!\n",
      "\n"
     ]
    },
    {
     "data": {
      "text/markdown": [
       "<table><tr><th>System Prompt:<br />You are a helpful assistant.<br /><br />User Prompt:<br />Give me a simple plan to declutter and organize my workspace.</th></tr><tr><td>Response:<br />Certainly! Here's a simple, step-by-step plan to declutter and organize your workspace:\n",
       "\n",
       "1. Set a Timer: Dedicate a specific amount of time (e.g., 30 minutes to 1 hour) to focus on decluttering.\n",
       "2. Clear Your Desk: Remove everything from your workspace. Place items in categories: keep, toss, or relocate.\n",
       "3. Sort Items:\n",
       "   - Keep: Essential items you use daily.\n",
       "   - Toss: Trash or recycle outdated papers, broken supplies, or unnecessary items.\n",
       "   - Relocate: Items that belong somewhere else.\n",
       "4. Clean the Surface: Wipe down your desk and any surfaces to start fresh.\n",
       "5. Organize Essentials:\n",
       "   - Use organizers, trays, or drawers for smaller items like pens, paperclips, and sticky notes.\n",
       "   - Store less frequently used items in cabinets or shelves.\n",
       "6. Create Zones:\n",
       "   - Designate specific areas for different activities (e.g., computer zone, writing zone).\n",
       "7. Establish a Maintenance Routine:\n",
       "   - Spend 5-10 minutes daily tidying up.\n",
       "   - Regularly review and declutter to prevent buildup.\n",
       "8. Personalize Thoughtfully:\n",
       "   - Add a few personal touches or motivating items, but avoid clutter.\n",
       "\n",
       "By following these steps, you'll create a cleaner, more efficient workspace.</td></tr></table>"
      ],
      "text/plain": [
       "<IPython.core.display.Markdown object>"
      ]
     },
     "metadata": {},
     "output_type": "display_data"
    }
   ],
   "source": [
    "plain_system_prompt = \"You are a helpful assistant.\"  # A generic system prompt\n",
    "user_prompt = \"Give me a simple plan to declutter and organize my workspace.\"\n",
    "\n",
    "print(f\"Sending prompt to {MODEL} model...\")\n",
    "baseline_response = get_completion(plain_system_prompt, user_prompt)\n",
    "print(\"Response received!\\n\")\n",
    "\n",
    "display_responses(\n",
    "    {\n",
    "        \"system_prompt\": plain_system_prompt,\n",
    "        \"user_prompt\": user_prompt,\n",
    "        \"response\": baseline_response,\n",
    "    }\n",
    ")"
   ]
  },
  {
   "cell_type": "markdown",
   "id": "4d754190-60d4-4ae2-b83f-b196b9a50bd0",
   "metadata": {},
   "source": [
    "## 2. Add a Professional Role\n",
    "\n",
    "Now, let's add a professional role to see how it affects the response.\n",
    "\n",
    "<div style=\"color: red\">NOTE: We will use the same user prompt for these examples. All you need to do is vary the system prompt, which is where one would normally define the role for an LLM.</div>"
   ]
  },
  {
   "cell_type": "code",
   "execution_count": 7,
   "id": "08ae4163-ec0f-4069-beb5-347a2e9a24b5",
   "metadata": {},
   "outputs": [
    {
     "name": "stdout",
     "output_type": "stream",
     "text": [
      "Sending prompt with professional role...\n",
      "Response received!\n",
      "\n"
     ]
    },
    {
     "data": {
      "text/markdown": [
       "<table><tr><th>System Prompt:<br />You are a helpful assistant.<br /><br />User Prompt:<br />Give me a simple plan to declutter and organize my workspace.</th><th>System Prompt:<br />You are an expert professional organizer and productivity coach.<br /><br />User Prompt:<br />Give me a simple plan to declutter and organize my workspace.</th></tr><tr><td>Response:<br />Certainly! Here's a simple, step-by-step plan to declutter and organize your workspace:\n",
       "\n",
       "1. Set a Timer: Dedicate a specific amount of time (e.g., 30 minutes to 1 hour) to focus on decluttering.\n",
       "2. Clear Your Desk: Remove everything from your workspace. Place items in categories: keep, toss, or relocate.\n",
       "3. Sort Items:\n",
       "   - Keep: Essential items you use daily.\n",
       "   - Toss: Trash or recycle outdated papers, broken supplies, or unnecessary items.\n",
       "   - Relocate: Items that belong somewhere else.\n",
       "4. Clean the Surface: Wipe down your desk and any surfaces to start fresh.\n",
       "5. Organize Essentials:\n",
       "   - Use organizers, trays, or drawers for smaller items like pens, paperclips, and sticky notes.\n",
       "   - Store less frequently used items in cabinets or shelves.\n",
       "6. Create Zones:\n",
       "   - Designate specific areas for different activities (e.g., computer zone, writing zone).\n",
       "7. Establish a Maintenance Routine:\n",
       "   - Spend 5-10 minutes daily tidying up.\n",
       "   - Regularly review and declutter to prevent buildup.\n",
       "8. Personalize Thoughtfully:\n",
       "   - Add a few personal touches or motivating items, but avoid clutter.\n",
       "\n",
       "By following these steps, you'll create a cleaner, more efficient workspace.</td><td>Response:<br />Absolutely! Here's a simple, step-by-step plan to declutter and organize your workspace effectively:\n",
       "\n",
       "**Step 1: Set Your Intentions (15 minutes)**  \n",
       "- Define your goals: What do you want your workspace to feel and function like?  \n",
       "- Decide how much time you can dedicate to this project today.\n",
       "\n",
       "**Step 2: Clear the Surface (30 minutes)**  \n",
       "- Remove everything from your desk and nearby surfaces.  \n",
       "- Sort items into categories: Keep, Relocate, Donate/Sell, Discard.\n",
       "\n",
       "**Step 3: Sort and Purge (30-45 minutes)**  \n",
       "- Go through each category:  \n",
       "  - Keep only what is necessary, functional, or brings you joy.  \n",
       "  - Discard broken, outdated, or unused items.  \n",
       "  - Relocate items that belong elsewhere.\n",
       "\n",
       "**Step 4: Clean the Space (15-20 minutes)**  \n",
       "- Wipe down surfaces, clean your desk, and vacuum if needed.  \n",
       "\n",
       "**Step 5: Organize Your Items (30 minutes)**  \n",
       "- Assign specific places for each category:  \n",
       "  - Use organizers, trays, or drawers for supplies.  \n",
       "  - Keep frequently used items within easy reach.  \n",
       "  - Store less-used items out of sight or in labeled containers.\n",
       "\n",
       "**Step 6: Create a Maintenance Routine (10 minutes daily)**  \n",
       "- Spend a few minutes each day tidying your workspace.  \n",
       "- At the end of each week, do a quick review and re-organize if necessary.\n",
       "\n",
       "**Optional Tips:**  \n",
       "- Keep only essential items on your desk.  \n",
       "- Use vertical space with shelves or wall organizers.  \n",
       "- Label storage containers for easy access.\n",
       "\n",
       "Would you like a tailored checklist or specific product recommendations?</td></tr></table>"
      ],
      "text/plain": [
       "<IPython.core.display.Markdown object>"
      ]
     },
     "metadata": {},
     "output_type": "display_data"
    }
   ],
   "source": [
    "# TODO: Write a system prompt starting with \"You are...\" replacing the ***********\n",
    "role_system_prompt = \"You are an expert professional organizer and productivity coach.\"\n",
    "\n",
    "print(\"Sending prompt with professional role...\")\n",
    "role_response = get_completion(role_system_prompt, user_prompt)\n",
    "print(\"Response received!\\n\")\n",
    "\n",
    "# Show last two prompts and responses\n",
    "display_responses(\n",
    "    {\n",
    "        \"system_prompt\": plain_system_prompt,\n",
    "        \"user_prompt\": user_prompt,\n",
    "        \"response\": baseline_response,\n",
    "    },\n",
    "    {\n",
    "        \"system_prompt\": role_system_prompt,\n",
    "        \"user_prompt\": user_prompt,\n",
    "        \"response\": role_response,\n",
    "    },\n",
    ")"
   ]
  },
  {
   "cell_type": "markdown",
   "id": "2302cb4c-7b2d-4686-8008-ceb6b0b2b808",
   "metadata": {},
   "source": [
    "## 3. Add Constraints\n",
    "\n",
    "Let's add specific constraints to see how the model prioritizes tasks. Let's add a time constraint, a budget constraint, and other constraints that are important for you."
   ]
  },
  {
   "cell_type": "code",
   "execution_count": 9,
   "id": "a38e577d-932a-4d4b-b915-c289b231b17d",
   "metadata": {},
   "outputs": [
    {
     "name": "stdout",
     "output_type": "stream",
     "text": [
      "Sending prompt with constraints...\n",
      "Response received!\n",
      "\n"
     ]
    },
    {
     "data": {
      "text/markdown": [
       "<table><tr><th>System Prompt:<br />You are an expert professional organizer and productivity coach.<br /><br />User Prompt:<br />Give me a simple plan to declutter and organize my workspace.</th><th>System Prompt:<br /> You are an expert professional organizer and productivity coach.. The plan must be achievable in one hour and require no purchases, using only existing household items.<br /><br />User Prompt:<br />Give me a simple plan to declutter and organize my workspace.</th></tr><tr><td>Response:<br />Absolutely! Here's a simple, step-by-step plan to declutter and organize your workspace effectively:\n",
       "\n",
       "**Step 1: Set Your Intentions (15 minutes)**  \n",
       "- Define your goals: What do you want your workspace to feel and function like?  \n",
       "- Decide how much time you can dedicate to this project today.\n",
       "\n",
       "**Step 2: Clear the Surface (30 minutes)**  \n",
       "- Remove everything from your desk and nearby surfaces.  \n",
       "- Sort items into categories: Keep, Relocate, Donate/Sell, Discard.\n",
       "\n",
       "**Step 3: Sort and Purge (30-45 minutes)**  \n",
       "- Go through each category:  \n",
       "  - Keep only what is necessary, functional, or brings you joy.  \n",
       "  - Discard broken, outdated, or unused items.  \n",
       "  - Relocate items that belong elsewhere.\n",
       "\n",
       "**Step 4: Clean the Space (15-20 minutes)**  \n",
       "- Wipe down surfaces, clean your desk, and vacuum if needed.  \n",
       "\n",
       "**Step 5: Organize Your Items (30 minutes)**  \n",
       "- Assign specific places for each category:  \n",
       "  - Use organizers, trays, or drawers for supplies.  \n",
       "  - Keep frequently used items within easy reach.  \n",
       "  - Store less-used items out of sight or in labeled containers.\n",
       "\n",
       "**Step 6: Create a Maintenance Routine (10 minutes daily)**  \n",
       "- Spend a few minutes each day tidying your workspace.  \n",
       "- At the end of each week, do a quick review and re-organize if necessary.\n",
       "\n",
       "**Optional Tips:**  \n",
       "- Keep only essential items on your desk.  \n",
       "- Use vertical space with shelves or wall organizers.  \n",
       "- Label storage containers for easy access.\n",
       "\n",
       "Would you like a tailored checklist or specific product recommendations?</td><td>Response:<br />Absolutely! Here's a simple, effective one-hour plan to declutter and organize your workspace using only household items:\n",
       "\n",
       "**0-10 Minutes: Clear the Surface**\n",
       "- Remove everything from your desk or workspace surface.\n",
       "- Quickly sort items into categories: keep, toss, relocate.\n",
       "- Discard any trash or expired items (old papers, broken pens).\n",
       "\n",
       "**10-20 Minutes: Sort and Group Items**\n",
       "- Group similar items together: pens, notebooks, chargers, paper clips, etc.\n",
       "- Use your hands or household containers (like bowls, jars, or small boxes) to contain small items.\n",
       "- For papers, create a quick \"to file\" or \"to review\" pile.\n",
       "\n",
       "**20-30 Minutes: Clear Unnecessary Items**\n",
       "- Identify items you rarely or never use and set them aside for donation, recycling, or storage elsewhere.\n",
       "- Put aside any items that belong in other rooms.\n",
       "\n",
       "**30-40 Minutes: Organize Your Items**\n",
       "- Use existing household containers or drawer dividers to organize small items.\n",
       "- Place frequently used items within easy reach.\n",
       "- Stack or file papers neatly; use a folder or binders if available, or make labeled stacks.\n",
       "\n",
       "**40-50 Minutes: Tidy and Reassemble**\n",
       "- Wipe down your desk surface with a cloth or paper towel.\n",
       "- Return only the organized essentials to your workspace.\n",
       "- Clear away clutter from the surrounding area to create a clean, inviting space.\n",
       "\n",
       "**50-60 Minutes: Final Touches**\n",
       "- Take a moment to tidy cables using twist ties, rubber bands, or clips (if available).\n",
       "- Adjust items for easy access.\n",
       "- Set a 5-minute reminder to maintain your organization weekly.\n",
       "\n",
       "This plan is simple, quick, and uses only household items—perfect for a one-hour refresh!</td></tr></table>"
      ],
      "text/plain": [
       "<IPython.core.display.Markdown object>"
      ]
     },
     "metadata": {},
     "output_type": "display_data"
    }
   ],
   "source": [
    "constraints_system_prompt = f\"\"\" {role_system_prompt}. The plan must be achievable in one hour and require no purchases, using only existing household items.\"\"\"\n",
    "\n",
    "print(\"Sending prompt with constraints...\")\n",
    "constraints_response = get_completion(constraints_system_prompt, user_prompt)\n",
    "print(\"Response received!\\n\")\n",
    "\n",
    "# Show last two prompts and responses\n",
    "display_responses(\n",
    "    {\n",
    "        \"system_prompt\": role_system_prompt,\n",
    "        \"user_prompt\": user_prompt,\n",
    "        \"response\": role_response,\n",
    "    },\n",
    "    {\n",
    "        \"system_prompt\": constraints_system_prompt,\n",
    "        \"user_prompt\": user_prompt,\n",
    "        \"response\": constraints_response,\n",
    "    },\n",
    ")"
   ]
  },
  {
   "cell_type": "markdown",
   "id": "cf9f79dd-036c-413f-a428-d65618ccf65c",
   "metadata": {},
   "source": [
    "## 4. Request Step-by-Step Reasoning\n",
    "\n"
   ]
  },
  {
   "cell_type": "code",
   "execution_count": 11,
   "id": "9c36b4f9-22d5-4303-8f15-c76bab163037",
   "metadata": {},
   "outputs": [
    {
     "name": "stdout",
     "output_type": "stream",
     "text": [
      "Sending prompt with reasoning...\n",
      "Response received!\n",
      "\n"
     ]
    },
    {
     "data": {
      "text/markdown": [
       "<table><tr><th>System Prompt:<br /> You are an expert professional organizer and productivity coach.. The plan must be achievable in one hour and require no purchases, using only existing household items.<br /><br />User Prompt:<br />Give me a simple plan to declutter and organize my workspace.</th><th>System Prompt:<br />  You are an expert professional organizer and productivity coach.. The plan must be achievable in one hour and require no purchases, using only existing household items.. Explain your reasoning for each step of the plan in a thoughtful way before presenting the final checklist.<br /><br />User Prompt:<br />Give me a simple plan to declutter and organize my workspace.</th></tr><tr><td>Response:<br />Absolutely! Here's a simple, effective one-hour plan to declutter and organize your workspace using only household items:\n",
       "\n",
       "**0-10 Minutes: Clear the Surface**\n",
       "- Remove everything from your desk or workspace surface.\n",
       "- Quickly sort items into categories: keep, toss, relocate.\n",
       "- Discard any trash or expired items (old papers, broken pens).\n",
       "\n",
       "**10-20 Minutes: Sort and Group Items**\n",
       "- Group similar items together: pens, notebooks, chargers, paper clips, etc.\n",
       "- Use your hands or household containers (like bowls, jars, or small boxes) to contain small items.\n",
       "- For papers, create a quick \"to file\" or \"to review\" pile.\n",
       "\n",
       "**20-30 Minutes: Clear Unnecessary Items**\n",
       "- Identify items you rarely or never use and set them aside for donation, recycling, or storage elsewhere.\n",
       "- Put aside any items that belong in other rooms.\n",
       "\n",
       "**30-40 Minutes: Organize Your Items**\n",
       "- Use existing household containers or drawer dividers to organize small items.\n",
       "- Place frequently used items within easy reach.\n",
       "- Stack or file papers neatly; use a folder or binders if available, or make labeled stacks.\n",
       "\n",
       "**40-50 Minutes: Tidy and Reassemble**\n",
       "- Wipe down your desk surface with a cloth or paper towel.\n",
       "- Return only the organized essentials to your workspace.\n",
       "- Clear away clutter from the surrounding area to create a clean, inviting space.\n",
       "\n",
       "**50-60 Minutes: Final Touches**\n",
       "- Take a moment to tidy cables using twist ties, rubber bands, or clips (if available).\n",
       "- Adjust items for easy access.\n",
       "- Set a 5-minute reminder to maintain your organization weekly.\n",
       "\n",
       "This plan is simple, quick, and uses only household items—perfect for a one-hour refresh!</td><td>Response:<br />Certainly! When creating a plan to declutter and organize your workspace within an hour using only existing household items, I want to focus on efficiency and practicality. The goal is to create a cleaner, more functional environment that boosts productivity without overwhelming you or requiring extra purchases.\n",
       "\n",
       "**Reasoning Behind the Plan:**\n",
       "\n",
       "1. **Assessment and Preparation (10 minutes):**  \n",
       "   Starting with a quick visual scan helps identify the main clutter hotspots and prioritize what needs immediate attention. It also allows you to gather any household items you might want to use as organizers (like jars, containers, or trays).\n",
       "\n",
       "2. **Clear the Surface (10 minutes):**  \n",
       "   Clearing your desk or workspace surfaces immediately creates a sense of order and provides space to work. Using existing items like a dish towel or a piece of fabric as a temporary mat can help protect surfaces and organize items temporarily.\n",
       "\n",
       "3. **Sort and Categorize Items (20 minutes):**  \n",
       "   Group similar items together—papers, pens, electronics, chargers, notepads. Use existing containers like mugs, jars, or empty boxes to temporarily hold these groups. This step helps you see what you truly need and what can be discarded or relocated.\n",
       "\n",
       "4. **Declutter and Discard (10 minutes):**  \n",
       "   Quickly identify items that are no longer needed—old papers, broken pens, expired sticky notes—and recycle or discard them. This reduces visual clutter and makes the space more functional.\n",
       "\n",
       "5. **Organize and Store (10 minutes):**  \n",
       "   Use the containers you've gathered to designate specific spots for different categories of items. For example, pens in a mug, papers in a stack, chargers coiled neatly. If you have a drawer or shelf, allocate space accordingly. This step turns a chaotic desk into an organized station.\n",
       "\n",
       "---\n",
       "\n",
       "### Final Checklist for 1-Hour Workspace Declutter and Organize:\n",
       "\n",
       "- [ ] **Assess your workspace** and identify clutter hotspots.  \n",
       "- [ ] **Gather existing household items** (mugs, jars, boxes, cloths) to use as organizers.  \n",
       "- [ ] **Clear all surfaces** to start with a blank slate.  \n",
       "- [ ] **Sort items into categories** (e.g., papers, writing tools, electronics).  \n",
       "- [ ] **Use household containers** to temporarily hold each category.  \n",
       "- [ ] **Discard or recycle** items that are no longer needed or broken.  \n",
       "- [ ] **Arrange items in designated spots** to create a tidy, functional workspace.  \n",
       "- [ ] **Clean the surface** with a cloth or cloth-like item to remove dust or fingerprints (if needed).  \n",
       "\n",
       "By following these steps, you'll have a clean, organized workspace in just one hour, all with items you already have at home. This process promotes a clear mind and a more productive environment!</td></tr></table>"
      ],
      "text/plain": [
       "<IPython.core.display.Markdown object>"
      ]
     },
     "metadata": {},
     "output_type": "display_data"
    }
   ],
   "source": [
    "reasoning_system_prompt = f\"\"\" {constraints_system_prompt}. Explain your reasoning for each step of the plan in a thoughtful way before presenting the final checklist.\"\"\"\n",
    "\n",
    "print(\"Sending prompt with reasoning...\")\n",
    "reasoning_response = get_completion(reasoning_system_prompt, user_prompt)\n",
    "print(\"Response received!\\n\")\n",
    "\n",
    "# Show last two prompts and responses\n",
    "display_responses(\n",
    "    {\n",
    "        \"system_prompt\": constraints_system_prompt,\n",
    "        \"user_prompt\": user_prompt,\n",
    "        \"response\": constraints_response,\n",
    "    },\n",
    "    {\n",
    "        \"system_prompt\": reasoning_system_prompt,\n",
    "        \"user_prompt\": user_prompt,\n",
    "        \"response\": reasoning_response,\n",
    "    },\n",
    ")"
   ]
  },
  {
   "cell_type": "markdown",
   "id": "fc1ee308-fa62-4bad-8bed-bb1d058cd801",
   "metadata": {},
   "source": [
    "## 5. Reflection and Test\n",
    "Adding Constraint to prompt, led to have a more reliable plan within expected time and plan being achievable."
   ]
  },
  {
   "cell_type": "markdown",
   "id": "a55f0931-b11c-4dc3-90e7-56bc1f9d2f47",
   "metadata": {},
   "source": [
    "## Bonus: Apply what you've learned\n",
    "\n",
    "Try crafting a prompt for one of your own ideas or even a different organization task (e.g., digital file cleanup, closet overhaul)!"
   ]
  },
  {
   "cell_type": "code",
   "execution_count": 8,
   "id": "0c5a07b7-6392-4be7-9829-a957cbf6bcf8",
   "metadata": {},
   "outputs": [
    {
     "name": "stdout",
     "output_type": "stream",
     "text": [
      "Sending custom prompt...\n",
      "Response received!\n",
      "\n"
     ]
    },
    {
     "data": {
      "text/markdown": [
       "<table><tr><th>System Prompt:<br />\n",
       "You are a helpful assistant.\n",
       "<br /><br />User Prompt:<br />\n",
       "Give me a simple plan for financial portfolio diversification\n",
       "</th></tr><tr><td>Response:<br />Certainly! Here's a simple plan for financial portfolio diversification:\n",
       "\n",
       "1. **Assess Your Financial Goals and Risk Tolerance**  \n",
       "   - Determine your investment objectives (e.g., growth, income, preservation).  \n",
       "   - Understand how much risk you're willing to take.\n",
       "\n",
       "2. **Allocate Assets Across Major Categories**  \n",
       "   - **Stocks (Equities):** For growth potential.  \n",
       "   - **Bonds (Fixed Income):** For stability and income.  \n",
       "   - **Cash and Cash Equivalents:** For liquidity and safety.\n",
       "\n",
       "3. **Diversify Within Asset Classes**  \n",
       "   - **Stocks:** Invest in different sectors (technology, healthcare, consumer goods, etc.) and regions (domestic and international).  \n",
       "   - **Bonds:** Mix government, municipal, and corporate bonds with varying maturities.\n",
       "\n",
       "4. **Include Alternative Investments (Optional)**  \n",
       "   - Consider real estate, commodities, or mutual funds/ETFs that track different assets to reduce correlation.\n",
       "\n",
       "5. **Rebalance Periodically**  \n",
       "   - Review your portfolio at least annually.  \n",
       "   - Adjust allocations to maintain your target risk level.\n",
       "\n",
       "6. **Keep Costs Low**  \n",
       "   - Use low-cost index funds or ETFs to minimize fees.\n",
       "\n",
       "**Example Sample Portfolio (Moderate Risk):**  \n",
       "- 50% Stocks (diversified across sectors and regions)  \n",
       "- 30% Bonds (mix of government and corporate)  \n",
       "- 10% Cash or equivalents  \n",
       "- 10% Alternative investments (optional)\n",
       "\n",
       "Remember, diversification helps manage risk but does not eliminate it. Tailor your plan to your personal circumstances and consider consulting a financial advisor for personalized advice.\n",
       "</td></tr></table>"
      ],
      "text/plain": [
       "<IPython.core.display.Markdown object>"
      ]
     },
     "metadata": {},
     "output_type": "display_data"
    }
   ],
   "source": [
    "# Create your own prompts here!\n",
    "\n",
    "# TODO: Replace the ***********\n",
    "custom_system_prompt = \"\"\"\n",
    "You are a helpful assistant.\n",
    "\"\"\"\n",
    "user_prompt = \"\"\"\n",
    "Give me a simple plan for financial portfolio diversification\n",
    "\"\"\"\n",
    "\n",
    "# Uncomment the lines below to run your custom prompt\n",
    "print(\"Sending custom prompt...\")\n",
    "custom_response = get_completion(custom_system_prompt, user_prompt)\n",
    "print(\"Response received!\\n\")\n",
    "\n",
    "display_responses(\n",
    "    {\n",
    "        \"system_prompt\": custom_system_prompt,\n",
    "        \"user_prompt\": user_prompt,\n",
    "        \"response\": custom_response,\n",
    "    }\n",
    ")"
   ]
  }
 ],
 "metadata": {
  "kernelspec": {
   "display_name": "Python (myenv)",
   "language": "python",
   "name": "myenv"
  },
  "language_info": {
   "codemirror_mode": {
    "name": "ipython",
    "version": 3
   },
   "file_extension": ".py",
   "mimetype": "text/x-python",
   "name": "python",
   "nbconvert_exporter": "python",
   "pygments_lexer": "ipython3",
   "version": "3.13.6"
  }
 },
 "nbformat": 4,
 "nbformat_minor": 5
}
